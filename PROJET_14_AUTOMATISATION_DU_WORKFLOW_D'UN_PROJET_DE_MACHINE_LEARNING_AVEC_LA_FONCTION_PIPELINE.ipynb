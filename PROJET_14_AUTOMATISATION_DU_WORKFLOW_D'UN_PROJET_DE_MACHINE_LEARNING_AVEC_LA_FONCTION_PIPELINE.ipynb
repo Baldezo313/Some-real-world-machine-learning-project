{
  "nbformat": 4,
  "nbformat_minor": 0,
  "metadata": {
    "colab": {
      "provenance": [],
      "authorship_tag": "ABX9TyOiFg3sflt48AtbAkP0UiLW",
      "include_colab_link": true
    },
    "kernelspec": {
      "name": "python3",
      "display_name": "Python 3"
    },
    "language_info": {
      "name": "python"
    }
  },
  "cells": [
    {
      "cell_type": "markdown",
      "metadata": {
        "id": "view-in-github",
        "colab_type": "text"
      },
      "source": [
        "<a href=\"https://colab.research.google.com/github/Baldezo313/Some-real-world-machine-learning-project/blob/main/PROJET_14_AUTOMATISATION_DU_WORKFLOW_D'UN_PROJET_DE_MACHINE_LEARNING_AVEC_LA_FONCTION_PIPELINE.ipynb\" target=\"_parent\"><img src=\"https://colab.research.google.com/assets/colab-badge.svg\" alt=\"Open In Colab\"/></a>"
      ]
    },
    {
      "cell_type": "markdown",
      "source": [
        "# PROJET 14 : AUTOMATISATION DU WORKFLOW D'UN PROJET DE MACHINE LEARNING AVEC LA FONCTION PIPELINE  \n",
        "\n",
        "Un projet en Data Science nécessite plusieurs étapes pour parvenir aux résultats finaux. Trois étapes sont incontournables : Nettoyage des données, Transformation (Prétraitement) des\n",
        "données et Modélisation. La réalisation de ces étapes n'est pas toujours linéaire. Bien souvent, un projet en Data Science est un processus itératif c'est-à-dire qu'il faut effectuer des feedbacks réguliers afin de revoir tel ou tel autre élément pour augmenter la performance de votre modèle.  \n",
        "De ce fait, le travail peut vite devenir fastidieux, très consommateur de temps et pénible. De plus, lorsque vous avez effectué séparément chacune de ces étapes pour une dataframe donnée, il faudra encore les reprendre pour un autre jeu de données (Travail répétitif).  \n",
        "\n",
        "Le module `pipeline de sklearn` avec sa fonction `Pipeline` permet de construire un super objet composé de transformateurs de la dataframe et d'un ou plusieurs estimateurs. En clair, vous\n",
        "pouvez avoir par exemple les étapes de prétraitement, de transformation (Réduction de dimensionnalité par exemple) et de modélisation le tout dans un même objet appelé pipeline.\n",
        "Ainsi, cet objet (pipeline) peut être appliqué facilement à d'autres jeux de données. Alors, grâce à l'objet pipeline, vous gagnez beaucoup de temps et vous éliminez d'un coup la pénibilité et la répétitivité du travail.    \n",
        "\n",
        "\n",
        "Après la lecture de ce projet, vous saurez comment automatiser toutes vos tâches de Data Science et de Machine Learning. De plus, la fonction pipeline n'aura plus aucun secret pour vous"
      ],
      "metadata": {
        "id": "0lcX-TYs7inE"
      }
    },
    {
      "cell_type": "markdown",
      "source": [
        "## ETUDE DE CAS D'APPLICATION DE PIPELINE : MODELISATION DU RISQUE DE CREDIT  \n",
        "\n",
        "Vous êtes Data Scientist dans une grande Banque et vous êtes chargé principalement de la modélisation du risque de crédit. Vous devez effectuer plusieurs tâches pour augmenter la\n",
        "performance de vos modèles. Pour chaque nouveau jeu de données, vous devez encore reprendre toutes ces tâches. Cela vous prend énormément de temps et la pression devient de plus en forte par rapport aux deadlines.  \n",
        "\n",
        "Plus d'inquiétude à vous faire. Après la lecture de ce projet, vous saurez comment automatiser toutes vos tâches de Data Science et de Machine Learning. De plus, la fonction pipeline n'aura plus aucun secret pour vous et vous serez toujours en avance sur les délais  \n",
        "\n",
        "Commençons par importer les librairies nécessaires pour cette étude."
      ],
      "metadata": {
        "id": "ZB4SpV3F8TIH"
      }
    },
    {
      "cell_type": "code",
      "execution_count": 1,
      "metadata": {
        "id": "hsJP9fCu7WPT"
      },
      "outputs": [],
      "source": [
        "import pandas as pd\n",
        "import numpy as np\n",
        "from sklearn.model_selection import train_test_split\n",
        "from sklearn.pipeline import Pipeline\n",
        "from sklearn.preprocessing import OneHotEncoder, StandardScaler\n",
        "from sklearn.compose import ColumnTransformer\n",
        "from sklearn.decomposition import PCA\n",
        "from sklearn.metrics import classification_report\n",
        "from sklearn.linear_model import LogisticRegression\n",
        "from sklearn.ensemble import RandomForestClassifier, AdaBoostClassifier\n",
        "from sklearn.neighbors import KNeighborsClassifier\n",
        "from sklearn.model_selection import GridSearchCV"
      ]
    },
    {
      "cell_type": "markdown",
      "source": [
        "**DONNEES**  \n",
        "\n",
        "Avant d'importer le jeu de données dans votre notebook, il est conseillé de l'ouvrir d'abord avec Excel ou toute autre application afin de faire une petite inspection visuelle. De plus, il faut lire la documentation sur vos données si celle-ci existe. C'est ce travail préalable qui nous a permis de savoir qu'il n'y a pas de noms de colonnes dans le jeu de données, que le séparateur est une virgule et que les valeurs manquantes sont\n",
        "représentées par un \"?\"."
      ],
      "metadata": {
        "id": "XIR0qDzy9A3v"
      }
    },
    {
      "cell_type": "code",
      "source": [
        "df_raw = pd.read_csv('https://raw.githubusercontent.com/Baldezo313/Some-real-world-machine-learning-project/refs/heads/main/Machine-Learning-par-la-pratique-avec-Python-master/crx.data?token=GHSAT0AAAAAAC4VKTEQW4DYFINZZ7HSCSNWZ4OKNWA',\n",
        "sep=',', header = None, na_values = \"?\")\n",
        "df_raw.head()"
      ],
      "metadata": {
        "colab": {
          "base_uri": "https://localhost:8080/",
          "height": 206
        },
        "id": "zReKxfz08zrQ",
        "outputId": "db585852-0bc8-4faa-ff41-7b7d1c43a25b"
      },
      "execution_count": 2,
      "outputs": [
        {
          "output_type": "execute_result",
          "data": {
            "text/plain": [
              "  0      1      2  3  4  5  6     7  8  9   10 11 12     13   14 15\n",
              "0  b  30.83  0.000  u  g  w  v  1.25  t  t   1  f  g  202.0    0  +\n",
              "1  a  58.67  4.460  u  g  q  h  3.04  t  t   6  f  g   43.0  560  +\n",
              "2  a  24.50  0.500  u  g  q  h  1.50  t  f   0  f  g  280.0  824  +\n",
              "3  b  27.83  1.540  u  g  w  v  3.75  t  t   5  t  g  100.0    3  +\n",
              "4  b  20.17  5.625  u  g  w  v  1.71  t  f   0  f  s  120.0    0  +"
            ],
            "text/html": [
              "\n",
              "  <div id=\"df-6a19f69a-b968-4fec-8d96-c328ec34eee2\" class=\"colab-df-container\">\n",
              "    <div>\n",
              "<style scoped>\n",
              "    .dataframe tbody tr th:only-of-type {\n",
              "        vertical-align: middle;\n",
              "    }\n",
              "\n",
              "    .dataframe tbody tr th {\n",
              "        vertical-align: top;\n",
              "    }\n",
              "\n",
              "    .dataframe thead th {\n",
              "        text-align: right;\n",
              "    }\n",
              "</style>\n",
              "<table border=\"1\" class=\"dataframe\">\n",
              "  <thead>\n",
              "    <tr style=\"text-align: right;\">\n",
              "      <th></th>\n",
              "      <th>0</th>\n",
              "      <th>1</th>\n",
              "      <th>2</th>\n",
              "      <th>3</th>\n",
              "      <th>4</th>\n",
              "      <th>5</th>\n",
              "      <th>6</th>\n",
              "      <th>7</th>\n",
              "      <th>8</th>\n",
              "      <th>9</th>\n",
              "      <th>10</th>\n",
              "      <th>11</th>\n",
              "      <th>12</th>\n",
              "      <th>13</th>\n",
              "      <th>14</th>\n",
              "      <th>15</th>\n",
              "    </tr>\n",
              "  </thead>\n",
              "  <tbody>\n",
              "    <tr>\n",
              "      <th>0</th>\n",
              "      <td>b</td>\n",
              "      <td>30.83</td>\n",
              "      <td>0.000</td>\n",
              "      <td>u</td>\n",
              "      <td>g</td>\n",
              "      <td>w</td>\n",
              "      <td>v</td>\n",
              "      <td>1.25</td>\n",
              "      <td>t</td>\n",
              "      <td>t</td>\n",
              "      <td>1</td>\n",
              "      <td>f</td>\n",
              "      <td>g</td>\n",
              "      <td>202.0</td>\n",
              "      <td>0</td>\n",
              "      <td>+</td>\n",
              "    </tr>\n",
              "    <tr>\n",
              "      <th>1</th>\n",
              "      <td>a</td>\n",
              "      <td>58.67</td>\n",
              "      <td>4.460</td>\n",
              "      <td>u</td>\n",
              "      <td>g</td>\n",
              "      <td>q</td>\n",
              "      <td>h</td>\n",
              "      <td>3.04</td>\n",
              "      <td>t</td>\n",
              "      <td>t</td>\n",
              "      <td>6</td>\n",
              "      <td>f</td>\n",
              "      <td>g</td>\n",
              "      <td>43.0</td>\n",
              "      <td>560</td>\n",
              "      <td>+</td>\n",
              "    </tr>\n",
              "    <tr>\n",
              "      <th>2</th>\n",
              "      <td>a</td>\n",
              "      <td>24.50</td>\n",
              "      <td>0.500</td>\n",
              "      <td>u</td>\n",
              "      <td>g</td>\n",
              "      <td>q</td>\n",
              "      <td>h</td>\n",
              "      <td>1.50</td>\n",
              "      <td>t</td>\n",
              "      <td>f</td>\n",
              "      <td>0</td>\n",
              "      <td>f</td>\n",
              "      <td>g</td>\n",
              "      <td>280.0</td>\n",
              "      <td>824</td>\n",
              "      <td>+</td>\n",
              "    </tr>\n",
              "    <tr>\n",
              "      <th>3</th>\n",
              "      <td>b</td>\n",
              "      <td>27.83</td>\n",
              "      <td>1.540</td>\n",
              "      <td>u</td>\n",
              "      <td>g</td>\n",
              "      <td>w</td>\n",
              "      <td>v</td>\n",
              "      <td>3.75</td>\n",
              "      <td>t</td>\n",
              "      <td>t</td>\n",
              "      <td>5</td>\n",
              "      <td>t</td>\n",
              "      <td>g</td>\n",
              "      <td>100.0</td>\n",
              "      <td>3</td>\n",
              "      <td>+</td>\n",
              "    </tr>\n",
              "    <tr>\n",
              "      <th>4</th>\n",
              "      <td>b</td>\n",
              "      <td>20.17</td>\n",
              "      <td>5.625</td>\n",
              "      <td>u</td>\n",
              "      <td>g</td>\n",
              "      <td>w</td>\n",
              "      <td>v</td>\n",
              "      <td>1.71</td>\n",
              "      <td>t</td>\n",
              "      <td>f</td>\n",
              "      <td>0</td>\n",
              "      <td>f</td>\n",
              "      <td>s</td>\n",
              "      <td>120.0</td>\n",
              "      <td>0</td>\n",
              "      <td>+</td>\n",
              "    </tr>\n",
              "  </tbody>\n",
              "</table>\n",
              "</div>\n",
              "    <div class=\"colab-df-buttons\">\n",
              "\n",
              "  <div class=\"colab-df-container\">\n",
              "    <button class=\"colab-df-convert\" onclick=\"convertToInteractive('df-6a19f69a-b968-4fec-8d96-c328ec34eee2')\"\n",
              "            title=\"Convert this dataframe to an interactive table.\"\n",
              "            style=\"display:none;\">\n",
              "\n",
              "  <svg xmlns=\"http://www.w3.org/2000/svg\" height=\"24px\" viewBox=\"0 -960 960 960\">\n",
              "    <path d=\"M120-120v-720h720v720H120Zm60-500h600v-160H180v160Zm220 220h160v-160H400v160Zm0 220h160v-160H400v160ZM180-400h160v-160H180v160Zm440 0h160v-160H620v160ZM180-180h160v-160H180v160Zm440 0h160v-160H620v160Z\"/>\n",
              "  </svg>\n",
              "    </button>\n",
              "\n",
              "  <style>\n",
              "    .colab-df-container {\n",
              "      display:flex;\n",
              "      gap: 12px;\n",
              "    }\n",
              "\n",
              "    .colab-df-convert {\n",
              "      background-color: #E8F0FE;\n",
              "      border: none;\n",
              "      border-radius: 50%;\n",
              "      cursor: pointer;\n",
              "      display: none;\n",
              "      fill: #1967D2;\n",
              "      height: 32px;\n",
              "      padding: 0 0 0 0;\n",
              "      width: 32px;\n",
              "    }\n",
              "\n",
              "    .colab-df-convert:hover {\n",
              "      background-color: #E2EBFA;\n",
              "      box-shadow: 0px 1px 2px rgba(60, 64, 67, 0.3), 0px 1px 3px 1px rgba(60, 64, 67, 0.15);\n",
              "      fill: #174EA6;\n",
              "    }\n",
              "\n",
              "    .colab-df-buttons div {\n",
              "      margin-bottom: 4px;\n",
              "    }\n",
              "\n",
              "    [theme=dark] .colab-df-convert {\n",
              "      background-color: #3B4455;\n",
              "      fill: #D2E3FC;\n",
              "    }\n",
              "\n",
              "    [theme=dark] .colab-df-convert:hover {\n",
              "      background-color: #434B5C;\n",
              "      box-shadow: 0px 1px 3px 1px rgba(0, 0, 0, 0.15);\n",
              "      filter: drop-shadow(0px 1px 2px rgba(0, 0, 0, 0.3));\n",
              "      fill: #FFFFFF;\n",
              "    }\n",
              "  </style>\n",
              "\n",
              "    <script>\n",
              "      const buttonEl =\n",
              "        document.querySelector('#df-6a19f69a-b968-4fec-8d96-c328ec34eee2 button.colab-df-convert');\n",
              "      buttonEl.style.display =\n",
              "        google.colab.kernel.accessAllowed ? 'block' : 'none';\n",
              "\n",
              "      async function convertToInteractive(key) {\n",
              "        const element = document.querySelector('#df-6a19f69a-b968-4fec-8d96-c328ec34eee2');\n",
              "        const dataTable =\n",
              "          await google.colab.kernel.invokeFunction('convertToInteractive',\n",
              "                                                    [key], {});\n",
              "        if (!dataTable) return;\n",
              "\n",
              "        const docLinkHtml = 'Like what you see? Visit the ' +\n",
              "          '<a target=\"_blank\" href=https://colab.research.google.com/notebooks/data_table.ipynb>data table notebook</a>'\n",
              "          + ' to learn more about interactive tables.';\n",
              "        element.innerHTML = '';\n",
              "        dataTable['output_type'] = 'display_data';\n",
              "        await google.colab.output.renderOutput(dataTable, element);\n",
              "        const docLink = document.createElement('div');\n",
              "        docLink.innerHTML = docLinkHtml;\n",
              "        element.appendChild(docLink);\n",
              "      }\n",
              "    </script>\n",
              "  </div>\n",
              "\n",
              "\n",
              "<div id=\"df-11f0fdd2-5f4c-4d11-909c-f2e5d03596ae\">\n",
              "  <button class=\"colab-df-quickchart\" onclick=\"quickchart('df-11f0fdd2-5f4c-4d11-909c-f2e5d03596ae')\"\n",
              "            title=\"Suggest charts\"\n",
              "            style=\"display:none;\">\n",
              "\n",
              "<svg xmlns=\"http://www.w3.org/2000/svg\" height=\"24px\"viewBox=\"0 0 24 24\"\n",
              "     width=\"24px\">\n",
              "    <g>\n",
              "        <path d=\"M19 3H5c-1.1 0-2 .9-2 2v14c0 1.1.9 2 2 2h14c1.1 0 2-.9 2-2V5c0-1.1-.9-2-2-2zM9 17H7v-7h2v7zm4 0h-2V7h2v10zm4 0h-2v-4h2v4z\"/>\n",
              "    </g>\n",
              "</svg>\n",
              "  </button>\n",
              "\n",
              "<style>\n",
              "  .colab-df-quickchart {\n",
              "      --bg-color: #E8F0FE;\n",
              "      --fill-color: #1967D2;\n",
              "      --hover-bg-color: #E2EBFA;\n",
              "      --hover-fill-color: #174EA6;\n",
              "      --disabled-fill-color: #AAA;\n",
              "      --disabled-bg-color: #DDD;\n",
              "  }\n",
              "\n",
              "  [theme=dark] .colab-df-quickchart {\n",
              "      --bg-color: #3B4455;\n",
              "      --fill-color: #D2E3FC;\n",
              "      --hover-bg-color: #434B5C;\n",
              "      --hover-fill-color: #FFFFFF;\n",
              "      --disabled-bg-color: #3B4455;\n",
              "      --disabled-fill-color: #666;\n",
              "  }\n",
              "\n",
              "  .colab-df-quickchart {\n",
              "    background-color: var(--bg-color);\n",
              "    border: none;\n",
              "    border-radius: 50%;\n",
              "    cursor: pointer;\n",
              "    display: none;\n",
              "    fill: var(--fill-color);\n",
              "    height: 32px;\n",
              "    padding: 0;\n",
              "    width: 32px;\n",
              "  }\n",
              "\n",
              "  .colab-df-quickchart:hover {\n",
              "    background-color: var(--hover-bg-color);\n",
              "    box-shadow: 0 1px 2px rgba(60, 64, 67, 0.3), 0 1px 3px 1px rgba(60, 64, 67, 0.15);\n",
              "    fill: var(--button-hover-fill-color);\n",
              "  }\n",
              "\n",
              "  .colab-df-quickchart-complete:disabled,\n",
              "  .colab-df-quickchart-complete:disabled:hover {\n",
              "    background-color: var(--disabled-bg-color);\n",
              "    fill: var(--disabled-fill-color);\n",
              "    box-shadow: none;\n",
              "  }\n",
              "\n",
              "  .colab-df-spinner {\n",
              "    border: 2px solid var(--fill-color);\n",
              "    border-color: transparent;\n",
              "    border-bottom-color: var(--fill-color);\n",
              "    animation:\n",
              "      spin 1s steps(1) infinite;\n",
              "  }\n",
              "\n",
              "  @keyframes spin {\n",
              "    0% {\n",
              "      border-color: transparent;\n",
              "      border-bottom-color: var(--fill-color);\n",
              "      border-left-color: var(--fill-color);\n",
              "    }\n",
              "    20% {\n",
              "      border-color: transparent;\n",
              "      border-left-color: var(--fill-color);\n",
              "      border-top-color: var(--fill-color);\n",
              "    }\n",
              "    30% {\n",
              "      border-color: transparent;\n",
              "      border-left-color: var(--fill-color);\n",
              "      border-top-color: var(--fill-color);\n",
              "      border-right-color: var(--fill-color);\n",
              "    }\n",
              "    40% {\n",
              "      border-color: transparent;\n",
              "      border-right-color: var(--fill-color);\n",
              "      border-top-color: var(--fill-color);\n",
              "    }\n",
              "    60% {\n",
              "      border-color: transparent;\n",
              "      border-right-color: var(--fill-color);\n",
              "    }\n",
              "    80% {\n",
              "      border-color: transparent;\n",
              "      border-right-color: var(--fill-color);\n",
              "      border-bottom-color: var(--fill-color);\n",
              "    }\n",
              "    90% {\n",
              "      border-color: transparent;\n",
              "      border-bottom-color: var(--fill-color);\n",
              "    }\n",
              "  }\n",
              "</style>\n",
              "\n",
              "  <script>\n",
              "    async function quickchart(key) {\n",
              "      const quickchartButtonEl =\n",
              "        document.querySelector('#' + key + ' button');\n",
              "      quickchartButtonEl.disabled = true;  // To prevent multiple clicks.\n",
              "      quickchartButtonEl.classList.add('colab-df-spinner');\n",
              "      try {\n",
              "        const charts = await google.colab.kernel.invokeFunction(\n",
              "            'suggestCharts', [key], {});\n",
              "      } catch (error) {\n",
              "        console.error('Error during call to suggestCharts:', error);\n",
              "      }\n",
              "      quickchartButtonEl.classList.remove('colab-df-spinner');\n",
              "      quickchartButtonEl.classList.add('colab-df-quickchart-complete');\n",
              "    }\n",
              "    (() => {\n",
              "      let quickchartButtonEl =\n",
              "        document.querySelector('#df-11f0fdd2-5f4c-4d11-909c-f2e5d03596ae button');\n",
              "      quickchartButtonEl.style.display =\n",
              "        google.colab.kernel.accessAllowed ? 'block' : 'none';\n",
              "    })();\n",
              "  </script>\n",
              "</div>\n",
              "\n",
              "    </div>\n",
              "  </div>\n"
            ],
            "application/vnd.google.colaboratory.intrinsic+json": {
              "type": "dataframe",
              "variable_name": "df_raw",
              "summary": "{\n  \"name\": \"df_raw\",\n  \"rows\": 690,\n  \"fields\": [\n    {\n      \"column\": 0,\n      \"properties\": {\n        \"dtype\": \"category\",\n        \"num_unique_values\": 2,\n        \"samples\": [\n          \"a\",\n          \"b\"\n        ],\n        \"semantic_type\": \"\",\n        \"description\": \"\"\n      }\n    },\n    {\n      \"column\": 1,\n      \"properties\": {\n        \"dtype\": \"number\",\n        \"std\": 11.957862498270877,\n        \"min\": 13.75,\n        \"max\": 80.25,\n        \"num_unique_values\": 349,\n        \"samples\": [\n          34.5,\n          31.58\n        ],\n        \"semantic_type\": \"\",\n        \"description\": \"\"\n      }\n    },\n    {\n      \"column\": 2,\n      \"properties\": {\n        \"dtype\": \"number\",\n        \"std\": 4.978163248528541,\n        \"min\": 0.0,\n        \"max\": 28.0,\n        \"num_unique_values\": 215,\n        \"samples\": [\n          10.415,\n          3.29\n        ],\n        \"semantic_type\": \"\",\n        \"description\": \"\"\n      }\n    },\n    {\n      \"column\": 3,\n      \"properties\": {\n        \"dtype\": \"category\",\n        \"num_unique_values\": 3,\n        \"samples\": [\n          \"u\",\n          \"y\"\n        ],\n        \"semantic_type\": \"\",\n        \"description\": \"\"\n      }\n    },\n    {\n      \"column\": 4,\n      \"properties\": {\n        \"dtype\": \"category\",\n        \"num_unique_values\": 3,\n        \"samples\": [\n          \"g\",\n          \"p\"\n        ],\n        \"semantic_type\": \"\",\n        \"description\": \"\"\n      }\n    },\n    {\n      \"column\": 5,\n      \"properties\": {\n        \"dtype\": \"category\",\n        \"num_unique_values\": 14,\n        \"samples\": [\n          \"i\",\n          \"aa\"\n        ],\n        \"semantic_type\": \"\",\n        \"description\": \"\"\n      }\n    },\n    {\n      \"column\": 6,\n      \"properties\": {\n        \"dtype\": \"category\",\n        \"num_unique_values\": 9,\n        \"samples\": [\n          \"dd\",\n          \"h\"\n        ],\n        \"semantic_type\": \"\",\n        \"description\": \"\"\n      }\n    },\n    {\n      \"column\": 7,\n      \"properties\": {\n        \"dtype\": \"number\",\n        \"std\": 3.3465133592781333,\n        \"min\": 0.0,\n        \"max\": 28.5,\n        \"num_unique_values\": 132,\n        \"samples\": [\n          13.5,\n          2.375\n        ],\n        \"semantic_type\": \"\",\n        \"description\": \"\"\n      }\n    },\n    {\n      \"column\": 8,\n      \"properties\": {\n        \"dtype\": \"category\",\n        \"num_unique_values\": 2,\n        \"samples\": [\n          \"f\",\n          \"t\"\n        ],\n        \"semantic_type\": \"\",\n        \"description\": \"\"\n      }\n    },\n    {\n      \"column\": 9,\n      \"properties\": {\n        \"dtype\": \"category\",\n        \"num_unique_values\": 2,\n        \"samples\": [\n          \"f\",\n          \"t\"\n        ],\n        \"semantic_type\": \"\",\n        \"description\": \"\"\n      }\n    },\n    {\n      \"column\": 10,\n      \"properties\": {\n        \"dtype\": \"number\",\n        \"std\": 4,\n        \"min\": 0,\n        \"max\": 67,\n        \"num_unique_values\": 23,\n        \"samples\": [\n          23,\n          9\n        ],\n        \"semantic_type\": \"\",\n        \"description\": \"\"\n      }\n    },\n    {\n      \"column\": 11,\n      \"properties\": {\n        \"dtype\": \"category\",\n        \"num_unique_values\": 2,\n        \"samples\": [\n          \"t\",\n          \"f\"\n        ],\n        \"semantic_type\": \"\",\n        \"description\": \"\"\n      }\n    },\n    {\n      \"column\": 12,\n      \"properties\": {\n        \"dtype\": \"category\",\n        \"num_unique_values\": 3,\n        \"samples\": [\n          \"g\",\n          \"s\"\n        ],\n        \"semantic_type\": \"\",\n        \"description\": \"\"\n      }\n    },\n    {\n      \"column\": 13,\n      \"properties\": {\n        \"dtype\": \"number\",\n        \"std\": 173.80676822523824,\n        \"min\": 0.0,\n        \"max\": 2000.0,\n        \"num_unique_values\": 170,\n        \"samples\": [\n          263.0,\n          400.0\n        ],\n        \"semantic_type\": \"\",\n        \"description\": \"\"\n      }\n    },\n    {\n      \"column\": 14,\n      \"properties\": {\n        \"dtype\": \"number\",\n        \"std\": 5210,\n        \"min\": 0,\n        \"max\": 100000,\n        \"num_unique_values\": 240,\n        \"samples\": [\n          100,\n          314\n        ],\n        \"semantic_type\": \"\",\n        \"description\": \"\"\n      }\n    },\n    {\n      \"column\": 15,\n      \"properties\": {\n        \"dtype\": \"category\",\n        \"num_unique_values\": 2,\n        \"samples\": [\n          \"-\",\n          \"+\"\n        ],\n        \"semantic_type\": \"\",\n        \"description\": \"\"\n      }\n    }\n  ]\n}"
            }
          },
          "metadata": {},
          "execution_count": 2
        }
      ]
    },
    {
      "cell_type": "code",
      "source": [
        "#Informations sur le jeu de données\n",
        "df_raw.info()"
      ],
      "metadata": {
        "colab": {
          "base_uri": "https://localhost:8080/"
        },
        "id": "OGBm0esV9VVZ",
        "outputId": "86ca0721-f6bc-4162-82b8-90fbaed64c33"
      },
      "execution_count": 3,
      "outputs": [
        {
          "output_type": "stream",
          "name": "stdout",
          "text": [
            "<class 'pandas.core.frame.DataFrame'>\n",
            "RangeIndex: 690 entries, 0 to 689\n",
            "Data columns (total 16 columns):\n",
            " #   Column  Non-Null Count  Dtype  \n",
            "---  ------  --------------  -----  \n",
            " 0   0       678 non-null    object \n",
            " 1   1       678 non-null    float64\n",
            " 2   2       690 non-null    float64\n",
            " 3   3       684 non-null    object \n",
            " 4   4       684 non-null    object \n",
            " 5   5       681 non-null    object \n",
            " 6   6       681 non-null    object \n",
            " 7   7       690 non-null    float64\n",
            " 8   8       690 non-null    object \n",
            " 9   9       690 non-null    object \n",
            " 10  10      690 non-null    int64  \n",
            " 11  11      690 non-null    object \n",
            " 12  12      690 non-null    object \n",
            " 13  13      677 non-null    float64\n",
            " 14  14      690 non-null    int64  \n",
            " 15  15      690 non-null    object \n",
            "dtypes: float64(4), int64(2), object(10)\n",
            "memory usage: 86.4+ KB\n"
          ]
        }
      ]
    },
    {
      "cell_type": "markdown",
      "source": [
        "### PREPARATION DES DONNEES  \n",
        "\n",
        "La préparation des données est une étape très importante dans tout projet en Data Science.  \n",
        "Concernant les valeurs manquantes, elles seront tout simplement retirées. Mais il est bon de savoir qu'il existe plusieurs manières de traiter les données manquantes comme les imputations\n",
        "par la moyenne, médiane, valeur la plus fréquente, etc.  \n",
        "\n",
        "Créons une copie de notre jeu de données :"
      ],
      "metadata": {
        "id": "x-c6C4DB9jnc"
      }
    },
    {
      "cell_type": "code",
      "source": [
        "df = df_raw.copy()"
      ],
      "metadata": {
        "id": "DOo0ob1B93V7"
      },
      "execution_count": 4,
      "outputs": []
    },
    {
      "cell_type": "markdown",
      "source": [
        "Selon la description de ce jeu de données, au niveau de la colonne 15 le symbole \"+\" représente un cas où le crédit a été accordé (client solvable) et le symbole \"-\" représente un cas où le crédit n'a pas été accordé (client insolvable) à une personne. Nous allons remplacer ces symboles : 1 pour \"+\" et 0 pour \"-\"."
      ],
      "metadata": {
        "id": "W1I1DIJ89072"
      }
    },
    {
      "cell_type": "code",
      "source": [
        "df[15].replace({\"+\":1, \"-\":0}, inplace=True)"
      ],
      "metadata": {
        "colab": {
          "base_uri": "https://localhost:8080/"
        },
        "id": "xjY1b1BR9fxe",
        "outputId": "a2c48ced-4ac5-4f87-cb4c-2245acc531fb"
      },
      "execution_count": 5,
      "outputs": [
        {
          "output_type": "stream",
          "name": "stderr",
          "text": [
            "<ipython-input-5-8678dc839ed0>:1: FutureWarning: A value is trying to be set on a copy of a DataFrame or Series through chained assignment using an inplace method.\n",
            "The behavior will change in pandas 3.0. This inplace method will never work because the intermediate object on which we are setting values always behaves as a copy.\n",
            "\n",
            "For example, when doing 'df[col].method(value, inplace=True)', try using 'df.method({col: value}, inplace=True)' or df[col] = df[col].method(value) instead, to perform the operation inplace on the original object.\n",
            "\n",
            "\n",
            "  df[15].replace({\"+\":1, \"-\":0}, inplace=True)\n",
            "<ipython-input-5-8678dc839ed0>:1: FutureWarning: Downcasting behavior in `replace` is deprecated and will be removed in a future version. To retain the old behavior, explicitly call `result.infer_objects(copy=False)`. To opt-in to the future behavior, set `pd.set_option('future.no_silent_downcasting', True)`\n",
            "  df[15].replace({\"+\":1, \"-\":0}, inplace=True)\n"
          ]
        }
      ]
    },
    {
      "cell_type": "markdown",
      "source": [
        "* Nombre de valeurs manquantes par colonne :"
      ],
      "metadata": {
        "id": "ca1VVadw-N5M"
      }
    },
    {
      "cell_type": "code",
      "source": [
        "df.isna().sum().sort_values(ascending=False)"
      ],
      "metadata": {
        "colab": {
          "base_uri": "https://localhost:8080/",
          "height": 585
        },
        "id": "1LHCrYw8-EOn",
        "outputId": "ba9163ef-1e41-48c3-ed10-1cb8305054fc"
      },
      "execution_count": 7,
      "outputs": [
        {
          "output_type": "execute_result",
          "data": {
            "text/plain": [
              "13    13\n",
              "0     12\n",
              "1     12\n",
              "5      9\n",
              "6      9\n",
              "3      6\n",
              "4      6\n",
              "2      0\n",
              "7      0\n",
              "8      0\n",
              "9      0\n",
              "10     0\n",
              "11     0\n",
              "12     0\n",
              "14     0\n",
              "15     0\n",
              "dtype: int64"
            ],
            "text/html": [
              "<div>\n",
              "<style scoped>\n",
              "    .dataframe tbody tr th:only-of-type {\n",
              "        vertical-align: middle;\n",
              "    }\n",
              "\n",
              "    .dataframe tbody tr th {\n",
              "        vertical-align: top;\n",
              "    }\n",
              "\n",
              "    .dataframe thead th {\n",
              "        text-align: right;\n",
              "    }\n",
              "</style>\n",
              "<table border=\"1\" class=\"dataframe\">\n",
              "  <thead>\n",
              "    <tr style=\"text-align: right;\">\n",
              "      <th></th>\n",
              "      <th>0</th>\n",
              "    </tr>\n",
              "  </thead>\n",
              "  <tbody>\n",
              "    <tr>\n",
              "      <th>13</th>\n",
              "      <td>13</td>\n",
              "    </tr>\n",
              "    <tr>\n",
              "      <th>0</th>\n",
              "      <td>12</td>\n",
              "    </tr>\n",
              "    <tr>\n",
              "      <th>1</th>\n",
              "      <td>12</td>\n",
              "    </tr>\n",
              "    <tr>\n",
              "      <th>5</th>\n",
              "      <td>9</td>\n",
              "    </tr>\n",
              "    <tr>\n",
              "      <th>6</th>\n",
              "      <td>9</td>\n",
              "    </tr>\n",
              "    <tr>\n",
              "      <th>3</th>\n",
              "      <td>6</td>\n",
              "    </tr>\n",
              "    <tr>\n",
              "      <th>4</th>\n",
              "      <td>6</td>\n",
              "    </tr>\n",
              "    <tr>\n",
              "      <th>2</th>\n",
              "      <td>0</td>\n",
              "    </tr>\n",
              "    <tr>\n",
              "      <th>7</th>\n",
              "      <td>0</td>\n",
              "    </tr>\n",
              "    <tr>\n",
              "      <th>8</th>\n",
              "      <td>0</td>\n",
              "    </tr>\n",
              "    <tr>\n",
              "      <th>9</th>\n",
              "      <td>0</td>\n",
              "    </tr>\n",
              "    <tr>\n",
              "      <th>10</th>\n",
              "      <td>0</td>\n",
              "    </tr>\n",
              "    <tr>\n",
              "      <th>11</th>\n",
              "      <td>0</td>\n",
              "    </tr>\n",
              "    <tr>\n",
              "      <th>12</th>\n",
              "      <td>0</td>\n",
              "    </tr>\n",
              "    <tr>\n",
              "      <th>14</th>\n",
              "      <td>0</td>\n",
              "    </tr>\n",
              "    <tr>\n",
              "      <th>15</th>\n",
              "      <td>0</td>\n",
              "    </tr>\n",
              "  </tbody>\n",
              "</table>\n",
              "</div><br><label><b>dtype:</b> int64</label>"
            ]
          },
          "metadata": {},
          "execution_count": 7
        }
      ]
    },
    {
      "cell_type": "markdown",
      "source": [
        "* Retirons toutes les lignes présentant des données manquantes :"
      ],
      "metadata": {
        "id": "Nza3A3Qh-dWn"
      }
    },
    {
      "cell_type": "code",
      "source": [
        "df.dropna(axis=0, inplace=True)\n",
        "df.shape"
      ],
      "metadata": {
        "colab": {
          "base_uri": "https://localhost:8080/"
        },
        "id": "GAn0MKj6-V4q",
        "outputId": "4a668125-3ef9-4996-9a4b-a0c045aa6d65"
      },
      "execution_count": 8,
      "outputs": [
        {
          "output_type": "execute_result",
          "data": {
            "text/plain": [
              "(653, 16)"
            ]
          },
          "metadata": {},
          "execution_count": 8
        }
      ]
    },
    {
      "cell_type": "markdown",
      "source": [
        "En éliminant les données manquantes, on passe de 690 à 653 lignes."
      ],
      "metadata": {
        "id": "6ZHivuBe-jg6"
      }
    },
    {
      "cell_type": "markdown",
      "source": [
        "### ETAPE DE PRETRAITEMENT DES DONNEES  \n",
        "\n",
        "Le prétraitement des données (**Data Preprocessing**) est l'étape qui vient juste avant la modélisation proprement dite. Dans le présent cas, cette étape comprendra la transformation\n",
        "des variables catégorielles en variables numériques (**Encoding**) ainsi que la standardisation (**Scaling**).  \n",
        "\n",
        "L'objectif étant de construire un pipeline qui englobe tout le processus de Machine Learning, le prétraitement sera donc la première composante (ou étape) de notre pipeline.  \n",
        "\n",
        "Pour la transformation des variables catégorielles, la fonction  [OneHotEncoder](https://scikit-learn.org/stable/modules/generated/sklearn.preprocessing.OneHotEncoder.html) a été utilisé"
      ],
      "metadata": {
        "id": "OIVC__7V-m9h"
      }
    },
    {
      "cell_type": "code",
      "source": [
        "#Création d'un objet OneHotEncoder pour transformer les variables catégorielles\n",
        "catTransformer = OneHotEncoder(drop='first')\n",
        "\n"
      ],
      "metadata": {
        "id": "EhRNxafq-gZf"
      },
      "execution_count": 9,
      "outputs": []
    },
    {
      "cell_type": "markdown",
      "source": [
        "L'argument *drop = 'first'* permet d'éliminer la variable générée à partir de la première modalité.  \n",
        "Cet argument est important car il permet de supprimer le problème de colinéarité entre variables générées après un *One Hot Enconding*.  \n",
        "\n",
        "Pour la standardisation au niveau des variables numériques, la fonction [StandardScaler()](https://scikit-learn.org/stable/modules/generated/sklearn.preprocessing.StandardScaler.html) a\n",
        "été utilisé."
      ],
      "metadata": {
        "id": "f26QrpHK_Rzn"
      }
    },
    {
      "cell_type": "code",
      "source": [
        "#Création d'un objet StandardScaler pour mettre à la même échelle les variables numériques\n",
        "numTransformer = StandardScaler()"
      ],
      "metadata": {
        "id": "2pauJO8d_NTP"
      },
      "execution_count": 10,
      "outputs": []
    },
    {
      "cell_type": "markdown",
      "source": [
        "Appliquons maintenant ces transformateurs. Au lieu d'appliquer séparément chaque transformateur, nous allons utiliser la fonction [ColumnTransformer](https://scikit-learn.org/stable/modules/generated/sklearn.compose.ColumnTransformer.html) qui nous permettra d'appliquer à la fois les deux transformateurs en les regroupant dans un même objet."
      ],
      "metadata": {
        "id": "Fgo9QIef_xf-"
      }
    },
    {
      "cell_type": "code",
      "source": [
        "#Features\n",
        "X = df.loc[:, 0:14]\n",
        "\n",
        "#Target\n",
        "y = df.loc[:, 15]\n",
        "\n",
        "#Variables catégorielles\n",
        "catVariables = X.select_dtypes(include=['object']).columns\n",
        "\n",
        "\n",
        "#Variabes numériques\n",
        "numVariables = X.select_dtypes(exclude=['object']).columns\n",
        "\n",
        "\n",
        "#Création d'un objet ColumnTransformer\n",
        "preprocessor = ColumnTransformer(\n",
        "    transformers=[\n",
        "        ('numeric', numTransformer, numVariables),\n",
        "         ('categoric', catTransformer, catVariables)\n",
        "         ]\n",
        "    )"
      ],
      "metadata": {
        "id": "A52vZ4Qm_oPa"
      },
      "execution_count": 11,
      "outputs": []
    },
    {
      "cell_type": "markdown",
      "source": [
        "* Créons l'objet pipeline avec comme étape l'objet preprocessor :"
      ],
      "metadata": {
        "id": "FtJRi1mFAhQq"
      }
    },
    {
      "cell_type": "code",
      "source": [
        "#Création d'un objet pipeline qui inclut l'objet ColumnTrasformer\n",
        "pipeline_object = Pipeline(steps=[('preprocessing', preprocessor)])"
      ],
      "metadata": {
        "id": "f7R1tO9UAfKD"
      },
      "execution_count": 12,
      "outputs": []
    },
    {
      "cell_type": "markdown",
      "source": [
        "### ETAPE DE REDUCTION DE DIMENSIONNALITE  \n",
        "\n",
        "Mettons à jour notre objet pipeline en y incluant un objet PCA *(Principal Components Analysis)* comme deuxième étape :"
      ],
      "metadata": {
        "id": "Gnfo3-cJAtti"
      }
    },
    {
      "cell_type": "code",
      "source": [
        "pipeline_object = Pipeline(\n",
        "    steps=[\n",
        "        ('preprocessing', preprocessor),\n",
        "         ('dim_red', PCA(n_components=10))\n",
        "         ]\n",
        "    )"
      ],
      "metadata": {
        "id": "YLOdKL1YAqPY"
      },
      "execution_count": 13,
      "outputs": []
    },
    {
      "cell_type": "markdown",
      "source": [
        "L'étape de modélisation permettra de conférer à cet objet pipeline le caractère d'un estimateur."
      ],
      "metadata": {
        "id": "bFznv86ZBcOk"
      }
    },
    {
      "cell_type": "markdown",
      "source": [
        "### ETAPE DE CONSTRUCTION DU MODELE  \n",
        "\n",
        "Avant de passer à la modélisation, divisons la dataframe en données d'entraînement et d'évaluation de modèle.  \n",
        "\n"
      ],
      "metadata": {
        "id": "vhzrLGYKBdb2"
      }
    },
    {
      "cell_type": "code",
      "source": [
        "#Train/Test set\n",
        "seed = 42\n",
        "X_train, X_test, y_train, y_test = train_test_split(X, y, random_state = seed, test_size = 0.2)"
      ],
      "metadata": {
        "id": "J-EYWd-TBME8"
      },
      "execution_count": 14,
      "outputs": []
    },
    {
      "cell_type": "markdown",
      "source": [
        "* **UN SEUL ALGORITHME DE CLASSIFICATION**  \n",
        "\n",
        "Mettons à jour notre objet pipeline en y incluant un modèle de classification utilisant l'algorithme de régression logistique."
      ],
      "metadata": {
        "id": "__UImh8HBwFL"
      }
    },
    {
      "cell_type": "code",
      "source": [
        "pipeline_object = Pipeline(\n",
        "    steps=[\n",
        "        ('preprocessing', preprocessor),\n",
        "         ('dim_red', PCA(n_components=10)),\n",
        "          ('lr_model', LogisticRegression(random_state = seed))\n",
        "          ]\n",
        "    )"
      ],
      "metadata": {
        "id": "_1PFte3OBthw"
      },
      "execution_count": 15,
      "outputs": []
    },
    {
      "cell_type": "markdown",
      "source": [
        "Le fait d'avoir ajouté un algorithme de classification en dernière étape à l'objet pipeline lui confère les caractéristiques d'un classificateur (ici Régression Logistique)  \n",
        "\n",
        "Maintenant nous pouvons utiliser l'objet pipeline comme estimateur et lui appliquer les méthodes ***fit()*** et ***predict()*** et terminer par le calcul de certaines métriques pour évaluer le modèle."
      ],
      "metadata": {
        "id": "lEdRckaSCHv1"
      }
    },
    {
      "cell_type": "code",
      "source": [
        "#Application du pipeline aux données d'entraînement\n",
        "pipeline_object.fit(X_train, y_train)"
      ],
      "metadata": {
        "colab": {
          "base_uri": "https://localhost:8080/",
          "height": 598
        },
        "id": "DQVsuBkOCDfS",
        "outputId": "d06b9d0a-15f2-40da-b72a-11f821da6780"
      },
      "execution_count": 16,
      "outputs": [
        {
          "output_type": "execute_result",
          "data": {
            "text/plain": [
              "Pipeline(steps=[('preprocessing',\n",
              "                 ColumnTransformer(transformers=[('numeric', StandardScaler(),\n",
              "                                                  Index([1, 2, 7, 10, 13, 14], dtype='int64')),\n",
              "                                                 ('categoric',\n",
              "                                                  OneHotEncoder(drop='first'),\n",
              "                                                  Index([0, 3, 4, 5, 6, 8, 9, 11, 12], dtype='int64'))])),\n",
              "                ('dim_red', PCA(n_components=10)),\n",
              "                ('lr_model', LogisticRegression(random_state=42))])"
            ],
            "text/html": [
              "<style>#sk-container-id-1 {\n",
              "  /* Definition of color scheme common for light and dark mode */\n",
              "  --sklearn-color-text: #000;\n",
              "  --sklearn-color-text-muted: #666;\n",
              "  --sklearn-color-line: gray;\n",
              "  /* Definition of color scheme for unfitted estimators */\n",
              "  --sklearn-color-unfitted-level-0: #fff5e6;\n",
              "  --sklearn-color-unfitted-level-1: #f6e4d2;\n",
              "  --sklearn-color-unfitted-level-2: #ffe0b3;\n",
              "  --sklearn-color-unfitted-level-3: chocolate;\n",
              "  /* Definition of color scheme for fitted estimators */\n",
              "  --sklearn-color-fitted-level-0: #f0f8ff;\n",
              "  --sklearn-color-fitted-level-1: #d4ebff;\n",
              "  --sklearn-color-fitted-level-2: #b3dbfd;\n",
              "  --sklearn-color-fitted-level-3: cornflowerblue;\n",
              "\n",
              "  /* Specific color for light theme */\n",
              "  --sklearn-color-text-on-default-background: var(--sg-text-color, var(--theme-code-foreground, var(--jp-content-font-color1, black)));\n",
              "  --sklearn-color-background: var(--sg-background-color, var(--theme-background, var(--jp-layout-color0, white)));\n",
              "  --sklearn-color-border-box: var(--sg-text-color, var(--theme-code-foreground, var(--jp-content-font-color1, black)));\n",
              "  --sklearn-color-icon: #696969;\n",
              "\n",
              "  @media (prefers-color-scheme: dark) {\n",
              "    /* Redefinition of color scheme for dark theme */\n",
              "    --sklearn-color-text-on-default-background: var(--sg-text-color, var(--theme-code-foreground, var(--jp-content-font-color1, white)));\n",
              "    --sklearn-color-background: var(--sg-background-color, var(--theme-background, var(--jp-layout-color0, #111)));\n",
              "    --sklearn-color-border-box: var(--sg-text-color, var(--theme-code-foreground, var(--jp-content-font-color1, white)));\n",
              "    --sklearn-color-icon: #878787;\n",
              "  }\n",
              "}\n",
              "\n",
              "#sk-container-id-1 {\n",
              "  color: var(--sklearn-color-text);\n",
              "}\n",
              "\n",
              "#sk-container-id-1 pre {\n",
              "  padding: 0;\n",
              "}\n",
              "\n",
              "#sk-container-id-1 input.sk-hidden--visually {\n",
              "  border: 0;\n",
              "  clip: rect(1px 1px 1px 1px);\n",
              "  clip: rect(1px, 1px, 1px, 1px);\n",
              "  height: 1px;\n",
              "  margin: -1px;\n",
              "  overflow: hidden;\n",
              "  padding: 0;\n",
              "  position: absolute;\n",
              "  width: 1px;\n",
              "}\n",
              "\n",
              "#sk-container-id-1 div.sk-dashed-wrapped {\n",
              "  border: 1px dashed var(--sklearn-color-line);\n",
              "  margin: 0 0.4em 0.5em 0.4em;\n",
              "  box-sizing: border-box;\n",
              "  padding-bottom: 0.4em;\n",
              "  background-color: var(--sklearn-color-background);\n",
              "}\n",
              "\n",
              "#sk-container-id-1 div.sk-container {\n",
              "  /* jupyter's `normalize.less` sets `[hidden] { display: none; }`\n",
              "     but bootstrap.min.css set `[hidden] { display: none !important; }`\n",
              "     so we also need the `!important` here to be able to override the\n",
              "     default hidden behavior on the sphinx rendered scikit-learn.org.\n",
              "     See: https://github.com/scikit-learn/scikit-learn/issues/21755 */\n",
              "  display: inline-block !important;\n",
              "  position: relative;\n",
              "}\n",
              "\n",
              "#sk-container-id-1 div.sk-text-repr-fallback {\n",
              "  display: none;\n",
              "}\n",
              "\n",
              "div.sk-parallel-item,\n",
              "div.sk-serial,\n",
              "div.sk-item {\n",
              "  /* draw centered vertical line to link estimators */\n",
              "  background-image: linear-gradient(var(--sklearn-color-text-on-default-background), var(--sklearn-color-text-on-default-background));\n",
              "  background-size: 2px 100%;\n",
              "  background-repeat: no-repeat;\n",
              "  background-position: center center;\n",
              "}\n",
              "\n",
              "/* Parallel-specific style estimator block */\n",
              "\n",
              "#sk-container-id-1 div.sk-parallel-item::after {\n",
              "  content: \"\";\n",
              "  width: 100%;\n",
              "  border-bottom: 2px solid var(--sklearn-color-text-on-default-background);\n",
              "  flex-grow: 1;\n",
              "}\n",
              "\n",
              "#sk-container-id-1 div.sk-parallel {\n",
              "  display: flex;\n",
              "  align-items: stretch;\n",
              "  justify-content: center;\n",
              "  background-color: var(--sklearn-color-background);\n",
              "  position: relative;\n",
              "}\n",
              "\n",
              "#sk-container-id-1 div.sk-parallel-item {\n",
              "  display: flex;\n",
              "  flex-direction: column;\n",
              "}\n",
              "\n",
              "#sk-container-id-1 div.sk-parallel-item:first-child::after {\n",
              "  align-self: flex-end;\n",
              "  width: 50%;\n",
              "}\n",
              "\n",
              "#sk-container-id-1 div.sk-parallel-item:last-child::after {\n",
              "  align-self: flex-start;\n",
              "  width: 50%;\n",
              "}\n",
              "\n",
              "#sk-container-id-1 div.sk-parallel-item:only-child::after {\n",
              "  width: 0;\n",
              "}\n",
              "\n",
              "/* Serial-specific style estimator block */\n",
              "\n",
              "#sk-container-id-1 div.sk-serial {\n",
              "  display: flex;\n",
              "  flex-direction: column;\n",
              "  align-items: center;\n",
              "  background-color: var(--sklearn-color-background);\n",
              "  padding-right: 1em;\n",
              "  padding-left: 1em;\n",
              "}\n",
              "\n",
              "\n",
              "/* Toggleable style: style used for estimator/Pipeline/ColumnTransformer box that is\n",
              "clickable and can be expanded/collapsed.\n",
              "- Pipeline and ColumnTransformer use this feature and define the default style\n",
              "- Estimators will overwrite some part of the style using the `sk-estimator` class\n",
              "*/\n",
              "\n",
              "/* Pipeline and ColumnTransformer style (default) */\n",
              "\n",
              "#sk-container-id-1 div.sk-toggleable {\n",
              "  /* Default theme specific background. It is overwritten whether we have a\n",
              "  specific estimator or a Pipeline/ColumnTransformer */\n",
              "  background-color: var(--sklearn-color-background);\n",
              "}\n",
              "\n",
              "/* Toggleable label */\n",
              "#sk-container-id-1 label.sk-toggleable__label {\n",
              "  cursor: pointer;\n",
              "  display: flex;\n",
              "  width: 100%;\n",
              "  margin-bottom: 0;\n",
              "  padding: 0.5em;\n",
              "  box-sizing: border-box;\n",
              "  text-align: center;\n",
              "  align-items: start;\n",
              "  justify-content: space-between;\n",
              "  gap: 0.5em;\n",
              "}\n",
              "\n",
              "#sk-container-id-1 label.sk-toggleable__label .caption {\n",
              "  font-size: 0.6rem;\n",
              "  font-weight: lighter;\n",
              "  color: var(--sklearn-color-text-muted);\n",
              "}\n",
              "\n",
              "#sk-container-id-1 label.sk-toggleable__label-arrow:before {\n",
              "  /* Arrow on the left of the label */\n",
              "  content: \"▸\";\n",
              "  float: left;\n",
              "  margin-right: 0.25em;\n",
              "  color: var(--sklearn-color-icon);\n",
              "}\n",
              "\n",
              "#sk-container-id-1 label.sk-toggleable__label-arrow:hover:before {\n",
              "  color: var(--sklearn-color-text);\n",
              "}\n",
              "\n",
              "/* Toggleable content - dropdown */\n",
              "\n",
              "#sk-container-id-1 div.sk-toggleable__content {\n",
              "  max-height: 0;\n",
              "  max-width: 0;\n",
              "  overflow: hidden;\n",
              "  text-align: left;\n",
              "  /* unfitted */\n",
              "  background-color: var(--sklearn-color-unfitted-level-0);\n",
              "}\n",
              "\n",
              "#sk-container-id-1 div.sk-toggleable__content.fitted {\n",
              "  /* fitted */\n",
              "  background-color: var(--sklearn-color-fitted-level-0);\n",
              "}\n",
              "\n",
              "#sk-container-id-1 div.sk-toggleable__content pre {\n",
              "  margin: 0.2em;\n",
              "  border-radius: 0.25em;\n",
              "  color: var(--sklearn-color-text);\n",
              "  /* unfitted */\n",
              "  background-color: var(--sklearn-color-unfitted-level-0);\n",
              "}\n",
              "\n",
              "#sk-container-id-1 div.sk-toggleable__content.fitted pre {\n",
              "  /* unfitted */\n",
              "  background-color: var(--sklearn-color-fitted-level-0);\n",
              "}\n",
              "\n",
              "#sk-container-id-1 input.sk-toggleable__control:checked~div.sk-toggleable__content {\n",
              "  /* Expand drop-down */\n",
              "  max-height: 200px;\n",
              "  max-width: 100%;\n",
              "  overflow: auto;\n",
              "}\n",
              "\n",
              "#sk-container-id-1 input.sk-toggleable__control:checked~label.sk-toggleable__label-arrow:before {\n",
              "  content: \"▾\";\n",
              "}\n",
              "\n",
              "/* Pipeline/ColumnTransformer-specific style */\n",
              "\n",
              "#sk-container-id-1 div.sk-label input.sk-toggleable__control:checked~label.sk-toggleable__label {\n",
              "  color: var(--sklearn-color-text);\n",
              "  background-color: var(--sklearn-color-unfitted-level-2);\n",
              "}\n",
              "\n",
              "#sk-container-id-1 div.sk-label.fitted input.sk-toggleable__control:checked~label.sk-toggleable__label {\n",
              "  background-color: var(--sklearn-color-fitted-level-2);\n",
              "}\n",
              "\n",
              "/* Estimator-specific style */\n",
              "\n",
              "/* Colorize estimator box */\n",
              "#sk-container-id-1 div.sk-estimator input.sk-toggleable__control:checked~label.sk-toggleable__label {\n",
              "  /* unfitted */\n",
              "  background-color: var(--sklearn-color-unfitted-level-2);\n",
              "}\n",
              "\n",
              "#sk-container-id-1 div.sk-estimator.fitted input.sk-toggleable__control:checked~label.sk-toggleable__label {\n",
              "  /* fitted */\n",
              "  background-color: var(--sklearn-color-fitted-level-2);\n",
              "}\n",
              "\n",
              "#sk-container-id-1 div.sk-label label.sk-toggleable__label,\n",
              "#sk-container-id-1 div.sk-label label {\n",
              "  /* The background is the default theme color */\n",
              "  color: var(--sklearn-color-text-on-default-background);\n",
              "}\n",
              "\n",
              "/* On hover, darken the color of the background */\n",
              "#sk-container-id-1 div.sk-label:hover label.sk-toggleable__label {\n",
              "  color: var(--sklearn-color-text);\n",
              "  background-color: var(--sklearn-color-unfitted-level-2);\n",
              "}\n",
              "\n",
              "/* Label box, darken color on hover, fitted */\n",
              "#sk-container-id-1 div.sk-label.fitted:hover label.sk-toggleable__label.fitted {\n",
              "  color: var(--sklearn-color-text);\n",
              "  background-color: var(--sklearn-color-fitted-level-2);\n",
              "}\n",
              "\n",
              "/* Estimator label */\n",
              "\n",
              "#sk-container-id-1 div.sk-label label {\n",
              "  font-family: monospace;\n",
              "  font-weight: bold;\n",
              "  display: inline-block;\n",
              "  line-height: 1.2em;\n",
              "}\n",
              "\n",
              "#sk-container-id-1 div.sk-label-container {\n",
              "  text-align: center;\n",
              "}\n",
              "\n",
              "/* Estimator-specific */\n",
              "#sk-container-id-1 div.sk-estimator {\n",
              "  font-family: monospace;\n",
              "  border: 1px dotted var(--sklearn-color-border-box);\n",
              "  border-radius: 0.25em;\n",
              "  box-sizing: border-box;\n",
              "  margin-bottom: 0.5em;\n",
              "  /* unfitted */\n",
              "  background-color: var(--sklearn-color-unfitted-level-0);\n",
              "}\n",
              "\n",
              "#sk-container-id-1 div.sk-estimator.fitted {\n",
              "  /* fitted */\n",
              "  background-color: var(--sklearn-color-fitted-level-0);\n",
              "}\n",
              "\n",
              "/* on hover */\n",
              "#sk-container-id-1 div.sk-estimator:hover {\n",
              "  /* unfitted */\n",
              "  background-color: var(--sklearn-color-unfitted-level-2);\n",
              "}\n",
              "\n",
              "#sk-container-id-1 div.sk-estimator.fitted:hover {\n",
              "  /* fitted */\n",
              "  background-color: var(--sklearn-color-fitted-level-2);\n",
              "}\n",
              "\n",
              "/* Specification for estimator info (e.g. \"i\" and \"?\") */\n",
              "\n",
              "/* Common style for \"i\" and \"?\" */\n",
              "\n",
              ".sk-estimator-doc-link,\n",
              "a:link.sk-estimator-doc-link,\n",
              "a:visited.sk-estimator-doc-link {\n",
              "  float: right;\n",
              "  font-size: smaller;\n",
              "  line-height: 1em;\n",
              "  font-family: monospace;\n",
              "  background-color: var(--sklearn-color-background);\n",
              "  border-radius: 1em;\n",
              "  height: 1em;\n",
              "  width: 1em;\n",
              "  text-decoration: none !important;\n",
              "  margin-left: 0.5em;\n",
              "  text-align: center;\n",
              "  /* unfitted */\n",
              "  border: var(--sklearn-color-unfitted-level-1) 1pt solid;\n",
              "  color: var(--sklearn-color-unfitted-level-1);\n",
              "}\n",
              "\n",
              ".sk-estimator-doc-link.fitted,\n",
              "a:link.sk-estimator-doc-link.fitted,\n",
              "a:visited.sk-estimator-doc-link.fitted {\n",
              "  /* fitted */\n",
              "  border: var(--sklearn-color-fitted-level-1) 1pt solid;\n",
              "  color: var(--sklearn-color-fitted-level-1);\n",
              "}\n",
              "\n",
              "/* On hover */\n",
              "div.sk-estimator:hover .sk-estimator-doc-link:hover,\n",
              ".sk-estimator-doc-link:hover,\n",
              "div.sk-label-container:hover .sk-estimator-doc-link:hover,\n",
              ".sk-estimator-doc-link:hover {\n",
              "  /* unfitted */\n",
              "  background-color: var(--sklearn-color-unfitted-level-3);\n",
              "  color: var(--sklearn-color-background);\n",
              "  text-decoration: none;\n",
              "}\n",
              "\n",
              "div.sk-estimator.fitted:hover .sk-estimator-doc-link.fitted:hover,\n",
              ".sk-estimator-doc-link.fitted:hover,\n",
              "div.sk-label-container:hover .sk-estimator-doc-link.fitted:hover,\n",
              ".sk-estimator-doc-link.fitted:hover {\n",
              "  /* fitted */\n",
              "  background-color: var(--sklearn-color-fitted-level-3);\n",
              "  color: var(--sklearn-color-background);\n",
              "  text-decoration: none;\n",
              "}\n",
              "\n",
              "/* Span, style for the box shown on hovering the info icon */\n",
              ".sk-estimator-doc-link span {\n",
              "  display: none;\n",
              "  z-index: 9999;\n",
              "  position: relative;\n",
              "  font-weight: normal;\n",
              "  right: .2ex;\n",
              "  padding: .5ex;\n",
              "  margin: .5ex;\n",
              "  width: min-content;\n",
              "  min-width: 20ex;\n",
              "  max-width: 50ex;\n",
              "  color: var(--sklearn-color-text);\n",
              "  box-shadow: 2pt 2pt 4pt #999;\n",
              "  /* unfitted */\n",
              "  background: var(--sklearn-color-unfitted-level-0);\n",
              "  border: .5pt solid var(--sklearn-color-unfitted-level-3);\n",
              "}\n",
              "\n",
              ".sk-estimator-doc-link.fitted span {\n",
              "  /* fitted */\n",
              "  background: var(--sklearn-color-fitted-level-0);\n",
              "  border: var(--sklearn-color-fitted-level-3);\n",
              "}\n",
              "\n",
              ".sk-estimator-doc-link:hover span {\n",
              "  display: block;\n",
              "}\n",
              "\n",
              "/* \"?\"-specific style due to the `<a>` HTML tag */\n",
              "\n",
              "#sk-container-id-1 a.estimator_doc_link {\n",
              "  float: right;\n",
              "  font-size: 1rem;\n",
              "  line-height: 1em;\n",
              "  font-family: monospace;\n",
              "  background-color: var(--sklearn-color-background);\n",
              "  border-radius: 1rem;\n",
              "  height: 1rem;\n",
              "  width: 1rem;\n",
              "  text-decoration: none;\n",
              "  /* unfitted */\n",
              "  color: var(--sklearn-color-unfitted-level-1);\n",
              "  border: var(--sklearn-color-unfitted-level-1) 1pt solid;\n",
              "}\n",
              "\n",
              "#sk-container-id-1 a.estimator_doc_link.fitted {\n",
              "  /* fitted */\n",
              "  border: var(--sklearn-color-fitted-level-1) 1pt solid;\n",
              "  color: var(--sklearn-color-fitted-level-1);\n",
              "}\n",
              "\n",
              "/* On hover */\n",
              "#sk-container-id-1 a.estimator_doc_link:hover {\n",
              "  /* unfitted */\n",
              "  background-color: var(--sklearn-color-unfitted-level-3);\n",
              "  color: var(--sklearn-color-background);\n",
              "  text-decoration: none;\n",
              "}\n",
              "\n",
              "#sk-container-id-1 a.estimator_doc_link.fitted:hover {\n",
              "  /* fitted */\n",
              "  background-color: var(--sklearn-color-fitted-level-3);\n",
              "}\n",
              "</style><div id=\"sk-container-id-1\" class=\"sk-top-container\"><div class=\"sk-text-repr-fallback\"><pre>Pipeline(steps=[(&#x27;preprocessing&#x27;,\n",
              "                 ColumnTransformer(transformers=[(&#x27;numeric&#x27;, StandardScaler(),\n",
              "                                                  Index([1, 2, 7, 10, 13, 14], dtype=&#x27;int64&#x27;)),\n",
              "                                                 (&#x27;categoric&#x27;,\n",
              "                                                  OneHotEncoder(drop=&#x27;first&#x27;),\n",
              "                                                  Index([0, 3, 4, 5, 6, 8, 9, 11, 12], dtype=&#x27;int64&#x27;))])),\n",
              "                (&#x27;dim_red&#x27;, PCA(n_components=10)),\n",
              "                (&#x27;lr_model&#x27;, LogisticRegression(random_state=42))])</pre><b>In a Jupyter environment, please rerun this cell to show the HTML representation or trust the notebook. <br />On GitHub, the HTML representation is unable to render, please try loading this page with nbviewer.org.</b></div><div class=\"sk-container\" hidden><div class=\"sk-item sk-dashed-wrapped\"><div class=\"sk-label-container\"><div class=\"sk-label fitted sk-toggleable\"><input class=\"sk-toggleable__control sk-hidden--visually\" id=\"sk-estimator-id-1\" type=\"checkbox\" ><label for=\"sk-estimator-id-1\" class=\"sk-toggleable__label fitted sk-toggleable__label-arrow\"><div><div>Pipeline</div></div><div><a class=\"sk-estimator-doc-link fitted\" rel=\"noreferrer\" target=\"_blank\" href=\"https://scikit-learn.org/1.6/modules/generated/sklearn.pipeline.Pipeline.html\">?<span>Documentation for Pipeline</span></a><span class=\"sk-estimator-doc-link fitted\">i<span>Fitted</span></span></div></label><div class=\"sk-toggleable__content fitted\"><pre>Pipeline(steps=[(&#x27;preprocessing&#x27;,\n",
              "                 ColumnTransformer(transformers=[(&#x27;numeric&#x27;, StandardScaler(),\n",
              "                                                  Index([1, 2, 7, 10, 13, 14], dtype=&#x27;int64&#x27;)),\n",
              "                                                 (&#x27;categoric&#x27;,\n",
              "                                                  OneHotEncoder(drop=&#x27;first&#x27;),\n",
              "                                                  Index([0, 3, 4, 5, 6, 8, 9, 11, 12], dtype=&#x27;int64&#x27;))])),\n",
              "                (&#x27;dim_red&#x27;, PCA(n_components=10)),\n",
              "                (&#x27;lr_model&#x27;, LogisticRegression(random_state=42))])</pre></div> </div></div><div class=\"sk-serial\"><div class=\"sk-item sk-dashed-wrapped\"><div class=\"sk-label-container\"><div class=\"sk-label fitted sk-toggleable\"><input class=\"sk-toggleable__control sk-hidden--visually\" id=\"sk-estimator-id-2\" type=\"checkbox\" ><label for=\"sk-estimator-id-2\" class=\"sk-toggleable__label fitted sk-toggleable__label-arrow\"><div><div>preprocessing: ColumnTransformer</div></div><div><a class=\"sk-estimator-doc-link fitted\" rel=\"noreferrer\" target=\"_blank\" href=\"https://scikit-learn.org/1.6/modules/generated/sklearn.compose.ColumnTransformer.html\">?<span>Documentation for preprocessing: ColumnTransformer</span></a></div></label><div class=\"sk-toggleable__content fitted\"><pre>ColumnTransformer(transformers=[(&#x27;numeric&#x27;, StandardScaler(),\n",
              "                                 Index([1, 2, 7, 10, 13, 14], dtype=&#x27;int64&#x27;)),\n",
              "                                (&#x27;categoric&#x27;, OneHotEncoder(drop=&#x27;first&#x27;),\n",
              "                                 Index([0, 3, 4, 5, 6, 8, 9, 11, 12], dtype=&#x27;int64&#x27;))])</pre></div> </div></div><div class=\"sk-parallel\"><div class=\"sk-parallel-item\"><div class=\"sk-item\"><div class=\"sk-label-container\"><div class=\"sk-label fitted sk-toggleable\"><input class=\"sk-toggleable__control sk-hidden--visually\" id=\"sk-estimator-id-3\" type=\"checkbox\" ><label for=\"sk-estimator-id-3\" class=\"sk-toggleable__label fitted sk-toggleable__label-arrow\"><div><div>numeric</div></div></label><div class=\"sk-toggleable__content fitted\"><pre>Index([1, 2, 7, 10, 13, 14], dtype=&#x27;int64&#x27;)</pre></div> </div></div><div class=\"sk-serial\"><div class=\"sk-item\"><div class=\"sk-estimator fitted sk-toggleable\"><input class=\"sk-toggleable__control sk-hidden--visually\" id=\"sk-estimator-id-4\" type=\"checkbox\" ><label for=\"sk-estimator-id-4\" class=\"sk-toggleable__label fitted sk-toggleable__label-arrow\"><div><div>StandardScaler</div></div><div><a class=\"sk-estimator-doc-link fitted\" rel=\"noreferrer\" target=\"_blank\" href=\"https://scikit-learn.org/1.6/modules/generated/sklearn.preprocessing.StandardScaler.html\">?<span>Documentation for StandardScaler</span></a></div></label><div class=\"sk-toggleable__content fitted\"><pre>StandardScaler()</pre></div> </div></div></div></div></div><div class=\"sk-parallel-item\"><div class=\"sk-item\"><div class=\"sk-label-container\"><div class=\"sk-label fitted sk-toggleable\"><input class=\"sk-toggleable__control sk-hidden--visually\" id=\"sk-estimator-id-5\" type=\"checkbox\" ><label for=\"sk-estimator-id-5\" class=\"sk-toggleable__label fitted sk-toggleable__label-arrow\"><div><div>categoric</div></div></label><div class=\"sk-toggleable__content fitted\"><pre>Index([0, 3, 4, 5, 6, 8, 9, 11, 12], dtype=&#x27;int64&#x27;)</pre></div> </div></div><div class=\"sk-serial\"><div class=\"sk-item\"><div class=\"sk-estimator fitted sk-toggleable\"><input class=\"sk-toggleable__control sk-hidden--visually\" id=\"sk-estimator-id-6\" type=\"checkbox\" ><label for=\"sk-estimator-id-6\" class=\"sk-toggleable__label fitted sk-toggleable__label-arrow\"><div><div>OneHotEncoder</div></div><div><a class=\"sk-estimator-doc-link fitted\" rel=\"noreferrer\" target=\"_blank\" href=\"https://scikit-learn.org/1.6/modules/generated/sklearn.preprocessing.OneHotEncoder.html\">?<span>Documentation for OneHotEncoder</span></a></div></label><div class=\"sk-toggleable__content fitted\"><pre>OneHotEncoder(drop=&#x27;first&#x27;)</pre></div> </div></div></div></div></div></div></div><div class=\"sk-item\"><div class=\"sk-estimator fitted sk-toggleable\"><input class=\"sk-toggleable__control sk-hidden--visually\" id=\"sk-estimator-id-7\" type=\"checkbox\" ><label for=\"sk-estimator-id-7\" class=\"sk-toggleable__label fitted sk-toggleable__label-arrow\"><div><div>PCA</div></div><div><a class=\"sk-estimator-doc-link fitted\" rel=\"noreferrer\" target=\"_blank\" href=\"https://scikit-learn.org/1.6/modules/generated/sklearn.decomposition.PCA.html\">?<span>Documentation for PCA</span></a></div></label><div class=\"sk-toggleable__content fitted\"><pre>PCA(n_components=10)</pre></div> </div></div><div class=\"sk-item\"><div class=\"sk-estimator fitted sk-toggleable\"><input class=\"sk-toggleable__control sk-hidden--visually\" id=\"sk-estimator-id-8\" type=\"checkbox\" ><label for=\"sk-estimator-id-8\" class=\"sk-toggleable__label fitted sk-toggleable__label-arrow\"><div><div>LogisticRegression</div></div><div><a class=\"sk-estimator-doc-link fitted\" rel=\"noreferrer\" target=\"_blank\" href=\"https://scikit-learn.org/1.6/modules/generated/sklearn.linear_model.LogisticRegression.html\">?<span>Documentation for LogisticRegression</span></a></div></label><div class=\"sk-toggleable__content fitted\"><pre>LogisticRegression(random_state=42)</pre></div> </div></div></div></div></div></div>"
            ]
          },
          "metadata": {},
          "execution_count": 16
        }
      ]
    },
    {
      "cell_type": "markdown",
      "source": [
        "Dans un premier temps, les données d'entraînement subiront le prétraitement (première étape du Pipeline). Dans un second temps elles subiront une réduction de dimensions grâce à l'objet\n",
        "PCA et en troisième temps elles seront passées dans l'algorithme de Régression logistique.   \n",
        "\n",
        "Pour évaluer le modèle, on peut tout simplement utiliser la méthode score() comme suit :"
      ],
      "metadata": {
        "id": "kRJHdHSjCweh"
      }
    },
    {
      "cell_type": "code",
      "source": [
        "#Score du modèle\n",
        "print(\"Accuracy on Training Data:\", round(pipeline_object.score(X_train, y_train), 2))"
      ],
      "metadata": {
        "colab": {
          "base_uri": "https://localhost:8080/"
        },
        "id": "gI-uUAlXCatw",
        "outputId": "5d2bcf27-9685-4739-f8fa-3981b24de2a1"
      },
      "execution_count": 17,
      "outputs": [
        {
          "output_type": "stream",
          "name": "stdout",
          "text": [
            "Accuracy on Training Data: 0.86\n"
          ]
        }
      ]
    },
    {
      "cell_type": "code",
      "source": [
        "print(\"Accuracy on Test Data:\", round(pipeline_object.score(X_test, y_test), 2))"
      ],
      "metadata": {
        "colab": {
          "base_uri": "https://localhost:8080/"
        },
        "id": "IGUH9aPBC4_J",
        "outputId": "28daf3ea-a98d-4ab5-a8b9-af572fff5c16"
      },
      "execution_count": 18,
      "outputs": [
        {
          "output_type": "stream",
          "name": "stdout",
          "text": [
            "Accuracy on Test Data: 0.8\n"
          ]
        }
      ]
    },
    {
      "cell_type": "markdown",
      "source": [
        "Le modèle donne un score de 86% sur le train data contre 80% pour le test data.  \n",
        "\n",
        "Passons aux prédictions du modèle :"
      ],
      "metadata": {
        "id": "oZnv3DQmDMId"
      }
    },
    {
      "cell_type": "code",
      "source": [
        "# Prédictions\n",
        "yhat = pipeline_object.predict(X_test)"
      ],
      "metadata": {
        "id": "gR58ZW1TC-ap"
      },
      "execution_count": 19,
      "outputs": []
    },
    {
      "cell_type": "markdown",
      "source": [
        "On peut dès lors dresser un rapport complet d'évaluation du modèle :"
      ],
      "metadata": {
        "id": "nWAEHLj1DYfK"
      }
    },
    {
      "cell_type": "code",
      "source": [
        "#Rapport de classification\n",
        "print(classification_report(y_test, yhat))"
      ],
      "metadata": {
        "colab": {
          "base_uri": "https://localhost:8080/"
        },
        "id": "qVEudtqeDVLd",
        "outputId": "a678f2b9-c8b7-4de5-bfe1-5797d7b35bc3"
      },
      "execution_count": 20,
      "outputs": [
        {
          "output_type": "stream",
          "name": "stdout",
          "text": [
            "              precision    recall  f1-score   support\n",
            "\n",
            "           0       0.84      0.82      0.83        76\n",
            "           1       0.75      0.78      0.77        55\n",
            "\n",
            "    accuracy                           0.80       131\n",
            "   macro avg       0.80      0.80      0.80       131\n",
            "weighted avg       0.80      0.80      0.80       131\n",
            "\n"
          ]
        }
      ]
    },
    {
      "cell_type": "markdown",
      "source": [
        "Selon ce rapport de performance du modèle, 80% des clients du test data ont été correctement classé comme solvables ou non. 83% des clients insolvables (classe 0) ont été correctement\n",
        "classés comme tel ce qui veut dire que 17% des clients insolvables ont été mal classés comme étant des clients solvables : c'est un risque de perte d'argent de l'ordre de 17% pour la banque.  \n",
        "\n",
        "Par ailleurs 78% des clients solvables (classe 1) ont été classé comme tel ce qui veut dire qu'environ 22% des clients solvables ont été mal classés comme étant des clients insolvables :\n",
        "c'est une perte d'opportunité pour la banque de l'ordre de 22%.  \n",
        "\n",
        "\n"
      ],
      "metadata": {
        "id": "-566jhjoDu2m"
      }
    },
    {
      "cell_type": "markdown",
      "source": [
        "* **PLUSIEURS ALGORITHMES DE CLASSIFICATION**  \n",
        "\n",
        "Dans un projet de Data Science, il est très rare d'essayer un seul modèle pour tirer des conclusions. Plusieurs algorithmes sont entraînés par les données. Le modèle le plus performant\n",
        "est sélectionné sur la base du calcul d'un paramètre d'évaluation préalablement défini selon le type de Business.  \n",
        "\n",
        "Grâce à une boucle *for*, nous allons entraîner plusieurs modèles et évaluer leur performance.  \n",
        "Voici le code que vous pouvez écrire pour ce genre de tâche :"
      ],
      "metadata": {
        "id": "IRWzXYunEX8H"
      }
    },
    {
      "cell_type": "code",
      "source": [
        "#Création d'une liste d'algorithmes de classification\n",
        "classifiers = [\n",
        "    LogisticRegression(random_state=seed),\n",
        "    RandomForestClassifier(random_state=seed),\n",
        "    AdaBoostClassifier(random_state=seed),\n",
        "    KNeighborsClassifier(n_neighbors=5)\n",
        "    ]\n",
        "\n",
        "\n",
        "#Entraînement et évaluation de chacun des algorithmes de la liste ci-dessus\n",
        "for algorithm in classifiers:\n",
        "  pipeline_object = Pipeline(\n",
        "      steps=[('preprocessing', preprocessor),\n",
        "       ('dimred', PCA(n_components=10)),\n",
        "        ('model', algorithm)])\n",
        "\n",
        "  #Fit\n",
        "  pipeline_object.fit(X_train, y_train)\n",
        "\n",
        "\n",
        "  #Score\n",
        "  print(algorithm)\n",
        "  print(\"Accuracy on Training Data:\", round(pipeline_object.score(X_train, y_train), 2))\n",
        "  print(\"Accuracy on Test Data:\", round(pipeline_object.score(X_test, y_test), 2))\n",
        "  print(\"-\" * 90)\n",
        "\n"
      ],
      "metadata": {
        "colab": {
          "base_uri": "https://localhost:8080/"
        },
        "id": "CgMZkRgeDbsP",
        "outputId": "9faa245c-5af2-41c1-bd7b-0b38b6c11927"
      },
      "execution_count": 21,
      "outputs": [
        {
          "output_type": "stream",
          "name": "stdout",
          "text": [
            "LogisticRegression(random_state=42)\n",
            "Accuracy on Training Data: 0.86\n",
            "Accuracy on Test Data: 0.8\n",
            "------------------------------------------------------------------------------------------\n",
            "RandomForestClassifier(random_state=42)\n",
            "Accuracy on Training Data: 1.0\n",
            "Accuracy on Test Data: 0.82\n",
            "------------------------------------------------------------------------------------------\n",
            "AdaBoostClassifier(random_state=42)\n",
            "Accuracy on Training Data: 0.88\n",
            "Accuracy on Test Data: 0.83\n",
            "------------------------------------------------------------------------------------------\n",
            "KNeighborsClassifier()\n",
            "Accuracy on Training Data: 0.85\n",
            "Accuracy on Test Data: 0.8\n",
            "------------------------------------------------------------------------------------------\n"
          ]
        }
      ]
    },
    {
      "cell_type": "markdown",
      "source": [
        "Vous pouvez essayer plusieurs autres algorithmes avec leurs hyperparamètres par défaut. L'idée est de pouvoir sélectionner les algorithmes qui sont performants aussi bien sur le train data que sur le test data. La seule contrainte possible est le temps d'exécution qui est directement rattachée à la puissance de l'ordinateur que vous utilisez. Si vous utilisez une machine de guerre :), par exemple un core i9 avec 64 GB de ram , faites libre cours à votre imagination. De toute façon, il y a une multitude d'algorithmes de Machine Learning.  \n",
        "\n",
        "En une seule fois, nous avons entraîné 04 algorithmes de classification ce qui fait un gain de temps énorme (On pouvait même inclure d'autres algorithmes). Nous retrouvons les mêmes\n",
        "scores pour la régression logistique.  \n",
        "\n",
        "Au vu des scores des différents modèles sur le training et le test set, le modèle de **AdaBoostClassifier** semble être le plus performant."
      ],
      "metadata": {
        "id": "hPZrS9DhFu8R"
      }
    },
    {
      "cell_type": "markdown",
      "source": [
        "Les algorithmes ci-dessus ont été entraîné avec leurs paramètres par défaut. L'une des étapes clé d'un projet de Data Science consiste à affiner un modèle en essayant plusieurs\n",
        "hyperparamètres (**Hyperparameters Tuning**). Cette tâche est non seulement fastidieuse mais très consommatrice en temps. De plus, il faut aussi effectuer une  [cross-validation](https://scikit-learn.org/stable/modules/cross_validation.html) afin de se\n",
        "prémunir contre le surapprentissage ( [Overfitting](https://en.wikipedia.org/wiki/Overfitting)).  \n",
        "\n",
        "Heureusement, cette fois ci-encore nous avons pipeline . Nous allons implémenter dans un pipeline toutes ces tâches de recherche des meilleurs hyperparamètres et de cross-validation au\n",
        "niveau de l'algorithme de AdaBoostClassifier afin d'essayer d'augmenter sa performance."
      ],
      "metadata": {
        "id": "zbGHtYmaGRpg"
      }
    },
    {
      "cell_type": "code",
      "source": [
        "#Création d'un pipeline avec RandomForestClassifier\n",
        "pipe = Pipeline(\n",
        "    steps=[\n",
        "        ('preprocessing', preprocessor),\n",
        "         ('dimred', PCA()),\n",
        "          ('classifier', LogisticRegression(random_state=seed))\n",
        "          ]\n",
        "    )\n",
        "#Création d'un dictionnaire regroupant les paramètres à tourner\n",
        "\n",
        "param_grid ={\n",
        "    'dimred__n_components' : range(2, 16),\n",
        "    'classifier__penalty' : ['l1', 'l2'],\n",
        "    'classifier__C' : [1,3, 5],\n",
        "    'classifier__solver' : ['liblinear'],\n",
        "    'classifier__max_iter' : [100, 500]\n",
        "    }\n",
        "\n",
        "#Création d'un estimateur avec GridSarchCV (Combinaison de Grid Search et de Cross-Validation)\n",
        "estimator = GridSearchCV(pipe, cv=10, param_grid=param_grid)\n",
        "\n",
        "#Entraînement de cet estimateur\n",
        "estimator.fit(X_train,y_train)\n",
        "\n",
        "\n",
        "#Meilleur score et meilleurs paramètres\n",
        "print(\"Meilleur score obtenu: %f avec les hyperparamètres : %s\" % (estimator.best_score_, estimator.best_params_))"
      ],
      "metadata": {
        "collapsed": true,
        "id": "qLnEmfydFZSm"
      },
      "execution_count": null,
      "outputs": []
    },
    {
      "cell_type": "markdown",
      "source": [
        "Notez qu'avec le pipeline, on a pu défini un espace de recherche aussi bien pour les hyperparamètres de l'algorithme mais aussi une gamme de nombre de composantes principales.  \n",
        "\n",
        "Puisque l'argument **refit** de la fonction **GridSearchCV** est par défaut égal à **True**, alors le modèle est automatiquement réentraîné avec les meilleurs hyperparamètres trouvés. On peut\n",
        "donc effectuer directement des prédictions et aussi dresser le rapport de classification :"
      ],
      "metadata": {
        "id": "NsjIqsnGI78Y"
      }
    },
    {
      "cell_type": "code",
      "source": [
        "#Prédiction sur le test set avec le meilleur estimateur\n",
        "pred = estimator.predict(X_test)\n",
        "\n",
        "\n",
        "#Rapport de classification\n",
        "print(classification_report(pred, y_test))"
      ],
      "metadata": {
        "id": "-JcDJR4RIjqn"
      },
      "execution_count": null,
      "outputs": []
    },
    {
      "cell_type": "markdown",
      "source": [
        "Selon ce rapport de performance du modèle, 84% (contre un score de 85% avec les paramètres par défaut) des clients du test data ont été correctement classé comme solvables ou non . Avec ce modèle tourné, on prédit mieux les clients insolvables. En effet 90% des clients insolvables (classe 0) ont été correctement classés comme tel ce qui veut dire que 10% des clients\n",
        " insolvables ont été mal classés comme étant des clients solvables : c'est un risque de perte d'argent de l'ordre de 10% (contre 12% avec le modèle par défaut) pour la banque. En revanche, on perd en justesse sur la prédiction des clients solvables. 76% (contre 81% avec le modèle par défaut) des clients solvables (classe 1) ont été classé comme tel ce qui veut dire qu'environ 24% des clients solvables ont été mal classés comme étant des clients insolvables : c'est une perte d'opportunité pour la banque de l'ordre de 24%.  \n",
        "\n",
        " Avec le premier modèle de régression logistique (hyperparamètres par défaut), la Banque a un risque de perte d'argent de l'ordre de 12% contre 10% avec le deuxième modèle (modèle tourné). Par ailleurs avec le premier modèle, la Banque a un risque de perte d'opportunité de gagner de l'argent (intérêts sur les crédits) de l'ordre de 19% contre 24% avec le deuxième modèle.  \n",
        "\n",
        ""
      ],
      "metadata": {
        "id": "7OBDTrK8JqLx"
      }
    },
    {
      "cell_type": "markdown",
      "source": [
        "### RESUME DES ETAPES DE CONSTRUCTION DU PIPELINE  \n",
        "\n",
        "✓ Préparation du jeu de données ;  \n",
        "✓ Première étape du pipeline : Prétraitement (Preprocessing) comprenant transformation des variables catégorielles (Encoding) et Mise à l'échelle (Scaling) ;  \n",
        "✓ Deuxième étape du pipeline : Réduction de dimensionnalité (Analyse en Composantes Principales) ;  \n",
        "✓ Troisième étape du pipeline : Modélisation ;  \n",
        "✓ Quatrième étape : Recherche des meilleurs hyperparamètres (Grid Search)."
      ],
      "metadata": {
        "id": "MWPCu8GnKBtH"
      }
    },
    {
      "cell_type": "markdown",
      "source": [
        "## CONCLUSION\n",
        "Dans ce projet j'ai montré, à travers une étude de cas (Modélisation du risque de crédit), qu'un pipeline peut regrouper trois (03) incontournables étapes d'un projet de Data Science à savoir :  \n",
        "* Pré-traitement et transformation des données ;\n",
        "* Construction d'un ou de plusieurs modèle(s) de Machine Learning ;\n",
        "* Recherche des meilleurs hyperparamètres.  \n",
        "\n",
        "Ainsi, le code de ce projet peut être appliqué à un nouveau jeu de données ce qui fait un gain énorme de temps et d'efficacité.  \n",
        "\n",
        "Il y a plusieurs autres manières d'utiliser un Pipeline. Je vous conseille de consulter cette [documentation](https://scikit-learn.org/stable/modules/generated/sklearn.pipeline.Pipeline.html#examples-using-sklearn-pipeline-pipeline) de Scikit-Learn qui est très riche en exemples pratiques."
      ],
      "metadata": {
        "id": "xWyAN8MHKdng"
      }
    },
    {
      "cell_type": "code",
      "source": [],
      "metadata": {
        "id": "fmqfbpGWJI98"
      },
      "execution_count": null,
      "outputs": []
    }
  ]
}