{
  "nbformat": 4,
  "nbformat_minor": 0,
  "metadata": {
    "colab": {
      "provenance": [],
      "authorship_tag": "ABX9TyN2/H4uF9jl6J7MhkE9lMnt",
      "include_colab_link": true
    },
    "kernelspec": {
      "name": "python3",
      "display_name": "Python 3"
    },
    "language_info": {
      "name": "python"
    }
  },
  "cells": [
    {
      "cell_type": "markdown",
      "metadata": {
        "id": "view-in-github",
        "colab_type": "text"
      },
      "source": [
        "<a href=\"https://colab.research.google.com/github/Baldezo313/Some-real-world-machine-learning-project/blob/main/Introduction.ipynb\" target=\"_parent\"><img src=\"https://colab.research.google.com/assets/colab-badge.svg\" alt=\"Open In Colab\"/></a>"
      ]
    },
    {
      "cell_type": "code",
      "execution_count": null,
      "metadata": {
        "id": "EbyBt9u_G1sj"
      },
      "outputs": [],
      "source": []
    },
    {
      "cell_type": "markdown",
      "source": [
        "# Introduction  \n",
        "\n",
        "Vous avez sûrement déjà entendu parler au moins une fois dans votre vie d'Intelligence\n",
        "artificielle, de Machine Learning, de Big Data, de Data Science. Ces concepts, comme des\n",
        "phénomènes de mode, sont mentionnés partout parfois à tort ou à raison. La communauté\n",
        "scientifique n'est même pas unanime sur les appellations et chacun développe sa propre\n",
        "philosophie derrière chacun de ces concepts.  \n",
        "\n",
        "Que faut -il comprendre par Machine Learning ? Comment ce terme est-il apparu ? Quels sont\n",
        "les types de Machine Learning ? A travers des exemples concrets et sans aller en profondeur\n",
        "dans l'aspect technique, je vous aiderai à comprendre ce concept. De plus, je vous aiderai à\n",
        "comprendre trois tâches classiques de Machine Learning : La Régression, La Classification et\n",
        "la Segmentation (Clustering).  \n",
        "\n",
        "## UN MONDE TRES COMPLEXE ET CONFUS  \n",
        "\n",
        "L'informatique a connu une évolution fulgurante. De la règle à calculer, en passant par les gros\n",
        "ordinateurs, nous en sommes aujourd'hui à des machines hyperpuissantes qui tiennent dans\n",
        "notre main c'est-à-dire les smartphones. De ce fait, notre perception de l'informatique a aussi\n",
        "évolué et on ne fournit pratiquement aucun effort pour accéder à l'informatique. Aujourd'hui,\n",
        "on n'a pas besoin d'être un surdoué en Mathématiques ou en codage pour profiter pleinement\n",
        "de toutes les possibilités de l'outil Informatique. D'ailleurs, le \"purement logique et\n",
        "mathématique\" n'a pratiquement plus d'adeptes. Il est vrai que les Mathématiciens ont su\n",
        "résoudre de grandes équations. Certains ont même écrit de grands algorithmes pour approcher\n",
        "numériquement les solutions de certaines équations complexes. Mais quel intérêt pour le\n",
        "commun des mortels ? Très vite, les scientifiques se sont rendu compte que le vrai défi était de\n",
        "résoudre des problèmes de la vie quotidienne et non d'écrire des millions de ligne de code. Mais\n",
        "notre monde est tellement complexe, désordonné, multiforme, confus qu'il est incapable de\n",
        "l'appréhender par les seules règles logiques.  \n",
        "\n",
        "\n",
        "Alors que faire ?  \n",
        "\n",
        "## LE MACHINE LEARNING  \n",
        "\n",
        "Dès lors qu'on s'est rendu compte que les problèmes réels de la vie ne pouvaient être réglé par\n",
        "les seules règles mathématiques et logiques, on a imaginé un système capable d'apprendre. De\n",
        "là est né le Machine Learning (Apprentissage automatique) qui est un domaine de l'Intelligence\n",
        "artificielle.  \n",
        "\n",
        "Selon Wikipédia, L'apprentissage automatique1 (Machine Learning en anglais) est un champ\n",
        "d'étude de l'Intelligence artificielle2 qui se fonde sur des approches mathématiques et\n",
        "statistiques pour donner aux ordinateurs la capacité d' apprendre à partir de données, c'est-àdire\n",
        "d'améliorer leurs performances à résoudre des tâches sans être explicitement programmés\n",
        "pour chacune de ces tâches. Plus largement, il concerne la conception, l'analyse, l'optimisation,\n",
        "le développement et l'implémentation de telles méthodes. En clair, le système apprend à partir\n",
        "des exemples qu'on lui montre. Ces exemples sont des données qui sont rentrées dans le système\n",
        "par des hommes.  \n",
        "\n",
        "Il existe déjà plusieurs cas d'apprentissage automatique que nous expérimentons déjà au\n",
        "quotidien et d’autres qui sont en cours de développement et de vulgarisation. On peut citer\n",
        "entres autres :  \n",
        "* **Le classement de nos mails :** Par exemple dans la messagerie de Google, nous avons\n",
        "des mails qui viennent dans notre boîte principale, d'autres sont rangés dans la catégorie\n",
        "\"Réseaux sociaux\" ou \"Promotions\". D'autres vont systématiquement dans la catégorie\n",
        "\"spam\". Ce n'est pas nous-mêmes qui faisons ce classement. Google a entraîné son\n",
        "système de messagerie à faire ce classement de manière automatique.  \n",
        "* **Les systèmes de reconnaissance d'image :** On a entraîné les systèmes à reconnaître\n",
        "une image spécifique. Par exemple, dans les voitures autonomes, le système peut\n",
        "distinguer un panneau stop, une bande piétonne, un feu rouge, etc. Il y a aussi des\n",
        "systèmes reconnaissance faciale qui peuvent reconnaître le visage d'une personne parmi\n",
        "une multitude d'images.  \n",
        "\n",
        "* **Le diagnostic médical :** Sur la base des données de patients, la machine peut dire si un\n",
        "individu est atteint par exemple du cancer.\n",
        "\n",
        "\n",
        "Il y a d'autres exemples comme les logiciels de traduction de langues, reconnaissance vocale,\n",
        "etc.\n",
        "Les exemples de Machine Learning sont légion et d'autres applications sont créés chaque jour.\n",
        "Mais comment la Machine apprend -elle et \"réussit\" à faire ce qu'on attend d'elle ?  \n",
        "\n",
        "Dans tous les exemples cités ci-dessus, ce sont les hommes qui ont entraîné le système à faire\n",
        "une tâche spécifique. Par exemple, pour apprendre à un ordinateur à reconnaître un chat, on lui\n",
        "montre plusieurs photos de chat. Le système intègre ces informations en son sein. On le teste\n",
        "ensuite afin de s'assurer qu’il soit capable de distinguer un chat d'un chien par exemple. Pour\n",
        "ce faire il faut lui montrer des centaines voire des milliers d'images. En effet, plus on dispose\n",
        "de données d'entrées, plus le système apprend mieux et sa performance est élevée.\n",
        "Heureusement, aujourd'hui nous sommes à l'ère du Big Data3. Le monde génère chaque jour\n",
        "des milliards de milliards de données de tout type. L'exploitation de ces données permet le\n",
        "développement d'intelligences artificielles de plus en plus performantes qui nous aident à régler\n",
        "des problèmes de la vie quotidienne.  \n",
        "\n",
        "L'apprentissage automatique révolutionne notre façon de résoudre les problèmes quotidiens et\n",
        "améliore nos vies dans plusieurs domaines tels que la santé, l'industrie, l'environnement, la\n",
        "finance, etc. La machine apprend de plusieurs exemples qu'on lui montre. Le plus difficile pour\n",
        "le commun des mortels est peut-être l'écriture des algorithmes d'apprentissage. Mais\n",
        "heureusement, des grandes sociétés comme Google développent ces algorithmes\n",
        "d'apprentissage en mode Open Source de telle façon que le Machine Learning est accessible à\n",
        "n'importe qu'elle personne ayant la volonté d'apprendre. Vous n'êtes pas obligé d'avoir un\n",
        "Doctorat en Mathématiques et en Informatique pour faire du Machine Learning. Il y a plein de\n",
        "ressources sur Internet, qui peuvent vous aider à démarrer et à être acteur de\n",
        "cette révolution.  \n",
        "\n",
        "\n",
        "Dans la suite, je vous aiderai à comprendre trois techniques classiques de Machine Learning. En effet, il existe\n",
        "trois types majeurs d’apprentissage automatique :  \n",
        "\n",
        "* **Apprentissage supervisé **(Supervised Learning en anglais) : l’apprentissage supervisé fait les prédictions sur la base de données étiquetées. En apprentissage supervisé on a\n",
        "deux (02) types de problème : les problèmes de **Régression**, lorsqu’il s’agit de prédire une variable quantitative et les problèmes de **Classification**, lorsqu’il s’agit de prédire\n",
        "une variable qualitative.  \n",
        "* **Apprentissage non supervisé** (Unsupervised Learning en anglais) : Contrairement à l’apprentissage supervisé, le but d’un algorithme d’apprentissage non supervisé est de\n",
        "trouver lui-même des structures (ou relations) sous-jacentes dans les données non étiquetées.  \n",
        "\n",
        "\n"
      ],
      "metadata": {
        "id": "2s_DwxagHlB2"
      }
    },
    {
      "cell_type": "markdown",
      "source": [
        "**REGRESSION**  \n",
        "\n",
        "La Régression est une technique classique d'apprentissage automatique dont le but est de prédire une variable quantitative en fonction d'autres variables. Partons d'un exemple pour comprendre les problèmes de Régression. Imaginez que vous ayez un échantillon de personnes avec les données sur leur poids et leur taille. L'objectif est de trouver une relation c'est-à-dire une fonction $y = a*x + b$ qui donne la taille d'une personne (y) en fonction de son poids (x). Cette fonction est un modèle de Régression5. Dans cet exemple, il s’agit d’une régression linéaire.  \n",
        "\n",
        "Vous pouvez ensuite utiliser votre modèle pour prédire la taille d'une personne (qui n'était pas\n",
        "dans votre jeu de données) connaissant son poids. Il est très important de garder à l'esprit que\n",
        "dans les problèmes de Régression, la variable-cible (y) est une variable quantitative et que vous\n",
        "avez besoin de données étiquetées pour construire votre modèle. Dans le cas de notre modèle\n",
        "qui donne la taille en fonction du poids, nous avons utilisé un jeu de données où nous avons\n",
        "pour chaque observation (chaque personne est une observation) son poids et sa taille. Il s'agit\n",
        "donc bel et bien de données étiquetées.  \n",
        "\n",
        "On peut citer d'autres exemples d'application de Régression :\n",
        "- La prédiction du prix des maisons en fonction de leurs caractéristiques (superficie,\n",
        "localisation, parking ou non, etc.) ;\n",
        "- Prédiction du taux de change de l'euro en dollar en Janvier 2020 ;\n",
        "- Prédiction du chiffre d'affaire d'une société ;\n",
        "- Etc.\n"
      ],
      "metadata": {
        "id": "FjXrIBiRKfQo"
      }
    },
    {
      "cell_type": "markdown",
      "source": [
        "**CLASSIFICATION**  \n",
        "La Classification est une technique d'apprentissage automatique dont le but est de prédire des\n",
        "classes ou catégories de nouvelles observations. Ici, on prédit une variable qualitative discrète\n",
        "contrairement à un problème de régression où on prédit une variable quantitative.  \n",
        "\n",
        "\n",
        "Partons encore d'un exemple. Supposons que vous avez un jeu de données avec par exemple\n",
        "comme variables le taux de cholestérol, le poids, le sexe et une variable \"malade\" qui est égale\n",
        "à oui si le patient est atteint d'une maladie cardio-vasculaire et non dans le cas contraire. Vous\n",
        "pouvez construire un modèle de classification qui s’ajuste bien à vos données. Et à partir de ce\n",
        "modèle, vous pouvez prédire si un nouveau patient sera malade ou pas. Il est clair que c’est une\n",
        "manière simpliste d’expliquer la chose et que le Machine Learning n’a pas vocation à remplacer\n",
        "les médecins ! L’apprentissage automatique est déjà en train de révolutionner le domaine de la Santé. Plusieurs études montrent qu’il améliore les diagnostics, l'infrastructure clinique et les\n",
        "soins préventifs.  \n",
        "\n",
        "Nous pouvons citer d’autres exemples de problème de classification :\n",
        "- Utilisation de données financières étiquetées pour prédire si la valeur d'une action\n",
        "augmentera ou diminuera la semaine prochaine. Dans cet exemple, il y a deux résultats\n",
        "qualitatifs distincts : le marché boursier à la hausse et le marché boursier à la baisse.\n",
        "Cela peut être représenté à l'aide d'une variable binaire et constitue une application\n",
        "parfaitement adaptée à la classification.\n",
        "- Prédire si un candidat à un prêt bancaire sera en défaut de paiement ou pas est un autre\n",
        "exemple de problème de classification.\n",
        "- Analyser des images d'animaux et prédire si l'image est celle d'un chien, d'un chat ou\n",
        "d'un panda.\n",
        "- Etc.  \n",
        "\n",
        "Il est important de garder à l'esprit que pour les problèmes de classification, la variable-cible\n",
        "est une variable qualitative et qu'on utilise des données étiquetées comme pour la Régression.  \n",
        "\n",
        "La Régression et la Classification constituent l'apprentissage automatique supervisé. C'est le\n",
        "type d'apprentissage automatique qui fait les prédictions à partir de données étiquetées\n",
        "contrairement à l'apprentissage automatique non supervisé.  \n",
        "\n",
        "L'apprentissage non supervisé englobe une variété de techniques d'apprentissage automatique\n",
        "comme la segmentation (ou clustering) et la réduction de dimension."
      ],
      "metadata": {
        "id": "TDxYo07ULHFi"
      }
    },
    {
      "cell_type": "markdown",
      "source": [
        "**SEGMENTATION (OU CLUSTERING)**  \n",
        "\n",
        "Comprenez le mot Clustering comme Regroupement en classes. Le Clustering est une technique\n",
        "de Machine Learning dont l'objectif est de regrouper les observations. Ici on ne dispose pas de\n",
        "données étiquetées. L'algorithme regroupe les objets similaires en termes de leurs\n",
        "caractéristiques. Dans chaque groupe, on a donc des observations similaires mais chaque groupe\n",
        "est différent d’un autre groupe.  \n",
        "\n",
        "Cette technique est beaucoup utilisée en Marketing. On groupe les clients similaires entre eux\n",
        "afin de faire des publicités ciblées.  \n",
        "\n"
      ],
      "metadata": {
        "id": "dEfEhzSVL_xl"
      }
    },
    {
      "cell_type": "code",
      "source": [],
      "metadata": {
        "id": "Ay96GYpjKdpL"
      },
      "execution_count": null,
      "outputs": []
    }
  ]
}